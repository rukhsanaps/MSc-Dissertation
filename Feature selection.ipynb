{
 "cells": [
  {
   "cell_type": "code",
   "execution_count": 1,
   "id": "ef248735",
   "metadata": {},
   "outputs": [],
   "source": [
    "import pandas as pd\n",
    "import numpy as np\n",
    "import matplotlib.pyplot as plt\n",
    "import seaborn as sns\n",
    "import statsmodels\n",
    "import pickle\n",
    "from collections import Counter\n",
    "import os"
   ]
  },
  {
   "cell_type": "code",
   "execution_count": 2,
   "id": "9d76b0d8",
   "metadata": {},
   "outputs": [
    {
     "name": "stdout",
     "output_type": "stream",
     "text": [
      "                  date  Appliances  lights     T1       RH_1    T2       RH_2  \\\n",
      "0  2016-01-11 17:00:00          60      30  19.89  47.596667  19.2  44.790000   \n",
      "1  2016-01-11 17:10:00          60      30  19.89  46.693333  19.2  44.722500   \n",
      "2  2016-01-11 17:20:00          50      30  19.89  46.300000  19.2  44.626667   \n",
      "3  2016-01-11 17:30:00          50      40  19.89  46.066667  19.2  44.590000   \n",
      "4  2016-01-11 17:40:00          60      40  19.89  46.333333  19.2  44.530000   \n",
      "\n",
      "      T3       RH_3         T4  ...         T9   RH_9     T_out  Press_mm_hg  \\\n",
      "0  19.79  44.730000  19.000000  ...  17.033333  45.53  6.600000        733.5   \n",
      "1  19.79  44.790000  19.000000  ...  17.066667  45.56  6.483333        733.6   \n",
      "2  19.79  44.933333  18.926667  ...  17.000000  45.50  6.366667        733.7   \n",
      "3  19.79  45.000000  18.890000  ...  17.000000  45.40  6.250000        733.8   \n",
      "4  19.79  45.000000  18.890000  ...  17.000000  45.40  6.133333        733.9   \n",
      "\n",
      "   RH_out  Windspeed  Visibility  Tdewpoint        rv1        rv2  \n",
      "0    92.0   7.000000   63.000000        5.3  13.275433  13.275433  \n",
      "1    92.0   6.666667   59.166667        5.2  18.606195  18.606195  \n",
      "2    92.0   6.333333   55.333333        5.1  28.642668  28.642668  \n",
      "3    92.0   6.000000   51.500000        5.0  45.410389  45.410389  \n",
      "4    92.0   5.666667   47.666667        4.9  10.084097  10.084097  \n",
      "\n",
      "[5 rows x 29 columns]\n"
     ]
    }
   ],
   "source": [
    "# load the data into dataframe\n",
    "df=pd.read_csv('energydata_complete.csv')\n",
    "print(df.head())"
   ]
  },
  {
   "cell_type": "code",
   "execution_count": 3,
   "id": "07ba5c36",
   "metadata": {},
   "outputs": [
    {
     "name": "stdout",
     "output_type": "stream",
     "text": [
      "<class 'pandas.core.frame.DataFrame'>\n",
      "RangeIndex: 19735 entries, 0 to 19734\n",
      "Data columns (total 29 columns):\n",
      " #   Column       Non-Null Count  Dtype  \n",
      "---  ------       --------------  -----  \n",
      " 0   date         19735 non-null  object \n",
      " 1   Appliances   19735 non-null  int64  \n",
      " 2   lights       19735 non-null  int64  \n",
      " 3   T1           19735 non-null  float64\n",
      " 4   RH_1         19735 non-null  float64\n",
      " 5   T2           19735 non-null  float64\n",
      " 6   RH_2         19735 non-null  float64\n",
      " 7   T3           19735 non-null  float64\n",
      " 8   RH_3         19735 non-null  float64\n",
      " 9   T4           19735 non-null  float64\n",
      " 10  RH_4         19735 non-null  float64\n",
      " 11  T5           19735 non-null  float64\n",
      " 12  RH_5         19735 non-null  float64\n",
      " 13  T6           19735 non-null  float64\n",
      " 14  RH_6         19735 non-null  float64\n",
      " 15  T7           19735 non-null  float64\n",
      " 16  RH_7         19735 non-null  float64\n",
      " 17  T8           19735 non-null  float64\n",
      " 18  RH_8         19735 non-null  float64\n",
      " 19  T9           19735 non-null  float64\n",
      " 20  RH_9         19735 non-null  float64\n",
      " 21  T_out        19735 non-null  float64\n",
      " 22  Press_mm_hg  19735 non-null  float64\n",
      " 23  RH_out       19735 non-null  float64\n",
      " 24  Windspeed    19735 non-null  float64\n",
      " 25  Visibility   19735 non-null  float64\n",
      " 26  Tdewpoint    19735 non-null  float64\n",
      " 27  rv1          19735 non-null  float64\n",
      " 28  rv2          19735 non-null  float64\n",
      "dtypes: float64(26), int64(2), object(1)\n",
      "memory usage: 4.4+ MB\n",
      "None\n"
     ]
    }
   ],
   "source": [
    "# print summary of dataframe\n",
    "print(df.info())"
   ]
  },
  {
   "cell_type": "code",
   "execution_count": 4,
   "id": "997bb93f",
   "metadata": {},
   "outputs": [
    {
     "data": {
      "text/plain": [
       "date           0\n",
       "Appliances     0\n",
       "lights         0\n",
       "T1             0\n",
       "RH_1           0\n",
       "T2             0\n",
       "RH_2           0\n",
       "T3             0\n",
       "RH_3           0\n",
       "T4             0\n",
       "RH_4           0\n",
       "T5             0\n",
       "RH_5           0\n",
       "T6             0\n",
       "RH_6           0\n",
       "T7             0\n",
       "RH_7           0\n",
       "T8             0\n",
       "RH_8           0\n",
       "T9             0\n",
       "RH_9           0\n",
       "T_out          0\n",
       "Press_mm_hg    0\n",
       "RH_out         0\n",
       "Windspeed      0\n",
       "Visibility     0\n",
       "Tdewpoint      0\n",
       "rv1            0\n",
       "rv2            0\n",
       "dtype: int64"
      ]
     },
     "execution_count": 4,
     "metadata": {},
     "output_type": "execute_result"
    }
   ],
   "source": [
    "df.isnull().sum()"
   ]
  },
  {
   "cell_type": "code",
   "execution_count": 5,
   "id": "5ebc43b9",
   "metadata": {},
   "outputs": [
    {
     "name": "stdout",
     "output_type": "stream",
     "text": [
      "0\n"
     ]
    }
   ],
   "source": [
    "# check for duplicate values\n",
    "duplicates=df.duplicated()\n",
    "print(duplicates.sum())"
   ]
  },
  {
   "cell_type": "code",
   "execution_count": 6,
   "id": "d784a5e6",
   "metadata": {},
   "outputs": [
    {
     "name": "stdout",
     "output_type": "stream",
     "text": [
      "         Appliances        lights            T1          RH_1            T2  \\\n",
      "count  19735.000000  19735.000000  19735.000000  19735.000000  19735.000000   \n",
      "mean      97.694958      3.801875     21.686571     40.259739     20.341219   \n",
      "std      102.524891      7.935988      1.606066      3.979299      2.192974   \n",
      "min       10.000000      0.000000     16.790000     27.023333     16.100000   \n",
      "25%       50.000000      0.000000     20.760000     37.333333     18.790000   \n",
      "50%       60.000000      0.000000     21.600000     39.656667     20.000000   \n",
      "75%      100.000000      0.000000     22.600000     43.066667     21.500000   \n",
      "max     1080.000000     70.000000     26.260000     63.360000     29.856667   \n",
      "\n",
      "               RH_2            T3          RH_3            T4          RH_4  \\\n",
      "count  19735.000000  19735.000000  19735.000000  19735.000000  19735.000000   \n",
      "mean      40.420420     22.267611     39.242500     20.855335     39.026904   \n",
      "std        4.069813      2.006111      3.254576      2.042884      4.341321   \n",
      "min       20.463333     17.200000     28.766667     15.100000     27.660000   \n",
      "25%       37.900000     20.790000     36.900000     19.530000     35.530000   \n",
      "50%       40.500000     22.100000     38.530000     20.666667     38.400000   \n",
      "75%       43.260000     23.290000     41.760000     22.100000     42.156667   \n",
      "max       56.026667     29.236000     50.163333     26.200000     51.090000   \n",
      "\n",
      "       ...            T9          RH_9         T_out   Press_mm_hg  \\\n",
      "count  ...  19735.000000  19735.000000  19735.000000  19735.000000   \n",
      "mean   ...     19.485828     41.552401      7.411665    755.522602   \n",
      "std    ...      2.014712      4.151497      5.317409      7.399441   \n",
      "min    ...     14.890000     29.166667     -5.000000    729.300000   \n",
      "25%    ...     18.000000     38.500000      3.666667    750.933333   \n",
      "50%    ...     19.390000     40.900000      6.916667    756.100000   \n",
      "75%    ...     20.600000     44.338095     10.408333    760.933333   \n",
      "max    ...     24.500000     53.326667     26.100000    772.300000   \n",
      "\n",
      "             RH_out     Windspeed    Visibility     Tdewpoint           rv1  \\\n",
      "count  19735.000000  19735.000000  19735.000000  19735.000000  19735.000000   \n",
      "mean      79.750418      4.039752     38.330834      3.760707     24.988033   \n",
      "std       14.901088      2.451221     11.794719      4.194648     14.496634   \n",
      "min       24.000000      0.000000      1.000000     -6.600000      0.005322   \n",
      "25%       70.333333      2.000000     29.000000      0.900000     12.497889   \n",
      "50%       83.666667      3.666667     40.000000      3.433333     24.897653   \n",
      "75%       91.666667      5.500000     40.000000      6.566667     37.583769   \n",
      "max      100.000000     14.000000     66.000000     15.500000     49.996530   \n",
      "\n",
      "                rv2  \n",
      "count  19735.000000  \n",
      "mean      24.988033  \n",
      "std       14.496634  \n",
      "min        0.005322  \n",
      "25%       12.497889  \n",
      "50%       24.897653  \n",
      "75%       37.583769  \n",
      "max       49.996530  \n",
      "\n",
      "[8 rows x 28 columns]\n"
     ]
    }
   ],
   "source": [
    "# print the statistical summary of data set\n",
    "print(df.describe())"
   ]
  },
  {
   "cell_type": "code",
   "execution_count": 26,
   "id": "d3dc6e6c",
   "metadata": {},
   "outputs": [],
   "source": [
    "df = df.sort_values(by='date').reset_index(drop=True)"
   ]
  },
  {
   "cell_type": "code",
   "execution_count": 27,
   "id": "7a41fbe0",
   "metadata": {},
   "outputs": [
    {
     "name": "stdout",
     "output_type": "stream",
     "text": [
      "540\n"
     ]
    }
   ],
   "source": [
    "from scipy.stats import zscore\n",
    "df['zscore']=zscore(df['Appliances'])\n",
    "df['is_outlier']=abs(df['zscore'])>3\n",
    "\n",
    "outlier_number=df['is_outlier'].sum()\n",
    "print(outlier_number)"
   ]
  },
  {
   "cell_type": "code",
   "execution_count": 28,
   "id": "efd981b4",
   "metadata": {},
   "outputs": [],
   "source": [
    "def clip_outliers(df, col, lower=0.01, upper=0.99):\n",
    "    q_low = df[col].quantile(lower)\n",
    "    q_high = df[col].quantile(upper)\n",
    "    df[col] = df[col].clip(q_low, q_high)\n",
    "    return df\n",
    "\n",
    "# Recommended features to clip\n",
    "outlier_sensitive_cols = ['Appliances', 'lights']\n",
    "\n",
    "for col in outlier_sensitive_cols:\n",
    "    df = clip_outliers(df, col)"
   ]
  },
  {
   "cell_type": "code",
   "execution_count": 29,
   "id": "3dbbf75b",
   "metadata": {},
   "outputs": [],
   "source": [
    "# rename the date column into 'timestamp'\n",
    "df.rename(columns={'date':'timestamp'},inplace=True)\n",
    "\n",
    "df['timestamp']=pd.to_datetime(df['timestamp'])\n",
    "\n",
    "df['hour'] = df['timestamp'].dt.hour\n",
    "df['day_of_week'] = df['timestamp'].dt.dayofweek  # Monday=0, Sunday=6\n",
    "df['is_weekend'] = df['day_of_week'].isin([5, 6]).astype(int)\n",
    "\n",
    "df['nsm'] =( \n",
    "    df['timestamp'].dt.hour * 3600 +\n",
    "    df['timestamp'].dt.minute * 60 +\n",
    "    df['timestamp'].dt.second )\n",
    "\n",
    "df['lag_1'] = df['Appliances'].shift(1)\n",
    "df['lag_2'] = df['Appliances'].shift(2)\n",
    "df['lag_6'] = df['Appliances'].shift(6)\n",
    "df['lag_12'] =df['Appliances'].shift(12)\n",
    "\n",
    "df['hour_sin'] = np.sin(2 * np.pi * df['hour']/24)\n",
    "df['hour_cos'] = np.cos(2 * np.pi * df['hour']/24)\n",
    "\n",
    "#df['rolling_mean_6'] = df['Appliances'].shift(1).rolling(window=6).mean()\n",
    "#df['rolling_std_6'] = df['Appliances'].shift(1).rolling(window=6).std()\n",
    "\n",
    "df['rolling_mean_12'] = df['Appliances'].shift(1).rolling(window=12).mean()\n",
    "df['rolling_std_12'] = df['Appliances'].shift(1).rolling(window=12).std()\n",
    "\n",
    "#df['target_10min']= df['Appliances'].shift(-1)\n",
    "\n",
    "df.rename(columns={'Appliances':'current_value'},inplace=True)\n",
    "\n"
   ]
  },
  {
   "cell_type": "code",
   "execution_count": 30,
   "id": "9623dd41",
   "metadata": {},
   "outputs": [],
   "source": [
    "df=df.drop(columns=['timestamp','is_outlier','zscore','rv1','rv2'])"
   ]
  },
  {
   "cell_type": "code",
   "execution_count": 31,
   "id": "88e6addb",
   "metadata": {},
   "outputs": [
    {
     "name": "stdout",
     "output_type": "stream",
     "text": [
      "✅ Saved feature-engineered dataset to CSV (no targets).\n"
     ]
    }
   ],
   "source": [
    "df.dropna(inplace=True)\n",
    "\n",
    "# Save to CSV (WITHOUT target columns)\n",
    "df.to_csv(\"feature_engineered_data.csv\",index=False)\n",
    "print(\"✅ Saved feature-engineered dataset to CSV (no targets).\")"
   ]
  },
  {
   "cell_type": "code",
   "execution_count": 32,
   "id": "23de139b",
   "metadata": {},
   "outputs": [],
   "source": [
    "from sklearn.feature_selection import RFE\n",
    "from sklearn.linear_model import LinearRegression\n",
    "from sklearn.ensemble import RandomForestRegressor"
   ]
  },
  {
   "cell_type": "code",
   "execution_count": 33,
   "id": "7e288936",
   "metadata": {},
   "outputs": [
    {
     "name": "stdout",
     "output_type": "stream",
     "text": [
      "   current_value  lights         T1       RH_1         T2       RH_2  \\\n",
      "0          430.0      30  20.133333  48.000000  19.566667  44.400000   \n",
      "1          250.0      30  20.260000  52.726667  19.730000  45.100000   \n",
      "2          100.0      10  20.426667  55.893333  19.856667  45.833333   \n",
      "3          100.0      10  20.566667  53.893333  20.033333  46.756667   \n",
      "4           90.0      10  20.730000  52.660000  20.166667  47.223333   \n",
      "\n",
      "          T3       RH_3         T4       RH_4  ...  is_weekend    nsm  lag_1  \\\n",
      "0  19.890000  44.900000  19.000000  46.363333  ...           0  68400  576.6   \n",
      "1  19.890000  45.493333  19.000000  47.223333  ...           0  69000  430.0   \n",
      "2  20.033333  47.526667  19.000000  48.696667  ...           0  69600  250.0   \n",
      "3  20.100000  48.466667  19.000000  48.490000  ...           0  70200  100.0   \n",
      "4  20.200000  48.530000  18.926667  48.156667  ...           0  70800  100.0   \n",
      "\n",
      "   lag_2  lag_6  lag_12  hour_sin  hour_cos  rolling_mean_12  rolling_std_12  \n",
      "0  230.0   60.0    60.0 -0.965926  0.258819       115.550000      153.488504  \n",
      "1  576.6   60.0    60.0 -0.965926  0.258819       146.383333      176.720271  \n",
      "2  430.0   60.0    50.0 -0.965926  0.258819       162.216667      176.788676  \n",
      "3  250.0   70.0    50.0 -0.965926  0.258819       166.383333      174.477557  \n",
      "4  100.0  230.0    60.0 -0.965926  0.258819       170.550000      172.025350  \n",
      "\n",
      "[5 rows x 38 columns]\n"
     ]
    }
   ],
   "source": [
    "# load the data into dataframe\n",
    "data=pd.read_csv('feature_engineered_data.csv')\n",
    "print(data.head())"
   ]
  },
  {
   "cell_type": "code",
   "execution_count": null,
   "id": "2f3ae7f2",
   "metadata": {},
   "outputs": [],
   "source": [
    "def select_features_for_step(data, step, n_features):\n",
    "   \n",
    "    # Copy data to avoid modifying original\n",
    "    df = data.copy()\n",
    "\n",
    "\n",
    "    # Create shifted target\n",
    "    shift_steps = step // 10  # Assuming 10-min intervals\n",
    "    target_col = f\"target_{step}min\"\n",
    "    df[target_col] = df[\"current_value\"].shift(-shift_steps)\n",
    "\n",
    "        # Drop rows with NaN (from lag/rolling or shifting)\n",
    "    df.dropna(inplace=True)\n",
    "\n",
    "        # Define X and y\n",
    "    X = df.drop(columns=[target_col])\n",
    "    y = df[target_col]\n",
    "\n",
    "        # Feature selection\n",
    "    model = RandomForestRegressor(n_estimators=100, random_state=42,n_jobs=-1)\n",
    "    selector = RFE(model, n_features_to_select=n_features,step=1)\n",
    "    selector.fit(X, y)\n",
    "        \n",
    "    selected_features = X.columns[selector.support_].tolist()\n",
    "\n",
    "    with open(f\"selected_features_{step}min.pkl\", \"wb\") as f:\n",
    "        pickle.dump(selected_features, f)\n",
    "\n",
    "    print(f\"✅ Saved: selected_features_{step}min.pkl\")\n",
    "    return selected_features \n"
   ]
  },
  {
   "cell_type": "code",
   "execution_count": 35,
   "id": "d7671c94",
   "metadata": {},
   "outputs": [
    {
     "name": "stdout",
     "output_type": "stream",
     "text": [
      "✅ Saved: selected_features_10min.pkl\n",
      "✅ Saved: selected_features_20min.pkl\n",
      "✅ Saved: selected_features_30min.pkl\n",
      "✅ Saved: selected_features_40min.pkl\n",
      "✅ Saved: selected_features_50min.pkl\n",
      "✅ Saved: selected_features_60min.pkl\n"
     ]
    }
   ],
   "source": [
    "forecast_steps = [10, 20, 30, 40, 50, 60]\n",
    "for step in forecast_steps:\n",
    "    select_features_for_step(data, step, n_features=10)"
   ]
  },
  {
   "cell_type": "code",
   "execution_count": 8,
   "id": "a40d0ed4",
   "metadata": {},
   "outputs": [
    {
     "name": "stdout",
     "output_type": "stream",
     "text": [
      "\n",
      "✅ Selected features for 10 minutes:\n",
      "['current_value', 'RH_5', 'T6', 'T8', 'RH_8', 'Press_mm_hg', 'nsm', 'lag_1', 'rolling_mean_12', 'rolling_std_12']\n",
      "\n",
      "✅ Selected features for 20 minutes:\n",
      "['current_value', 'RH_3', 'T4', 'RH_5', 'T6', 'RH_8', 'Press_mm_hg', 'nsm', 'rolling_mean_12', 'rolling_std_12']\n",
      "\n",
      "✅ Selected features for 30 minutes:\n",
      "['current_value', 'RH_2', 'T4', 'RH_5', 'T6', 'RH_8', 'Press_mm_hg', 'nsm', 'rolling_mean_12', 'rolling_std_12']\n",
      "\n",
      "✅ Selected features for 40 minutes:\n",
      "['current_value', 'T3', 'RH_5', 'T6', 'RH_8', 'Press_mm_hg', 'RH_out', 'nsm', 'rolling_mean_12', 'rolling_std_12']\n",
      "\n",
      "✅ Selected features for 50 minutes:\n",
      "['current_value', 'T3', 'RH_5', 'T6', 'RH_8', 'Press_mm_hg', 'Tdewpoint', 'nsm', 'rolling_mean_12', 'rolling_std_12']\n",
      "\n",
      "✅ Selected features for 60 minutes:\n",
      "['current_value', 'T3', 'RH_5', 'RH_8', 'T_out', 'Press_mm_hg', 'nsm', 'hour_cos', 'rolling_mean_12', 'rolling_std_12']\n"
     ]
    },
    {
     "data": {
      "image/png": "[encoded data removed]",
      "text/plain": [
       "<Figure size 1200x600 with 1 Axes>"
      ]
     },
     "metadata": {},
     "output_type": "display_data"
    }
   ],
   "source": [
    "forecast_steps = [10, 20, 30, 40, 50, 60]\n",
    "selected_features_all = []\n",
    "\n",
    "# Load selected feature files and print them\n",
    "for step in forecast_steps:\n",
    "    filename = f\"selected_features_{step}min.pkl\"  # Adjust path if needed\n",
    "    if os.path.exists(filename):\n",
    "        with open(filename, \"rb\") as f:\n",
    "            features = pickle.load(f)\n",
    "            selected_features_all.extend(features)\n",
    "            print(f\"\\n✅ Selected features for {step} minutes:\\n{features}\")\n",
    "    else:\n",
    "        print(f\"⚠️ File not found: {filename}\")\n",
    "\n",
    "# Count frequency of each feature across all steps\n",
    "feature_counts = Counter(selected_features_all)\n",
    "\n",
    "# Plot histogram of feature selection frequency\n",
    "plt.figure(figsize=(12, 6))\n",
    "plt.bar(feature_counts.keys(), feature_counts.values())\n",
    "plt.title(\"Frequency of Selected Features Across Forecasting Horizons\")\n",
    "plt.xlabel(\"Feature Name\")\n",
    "plt.ylabel(\"Number of Times Selected\")\n",
    "plt.xticks(rotation=45, ha='right')\n",
    "plt.tight_layout()\n",
    "plt.show()"
   ]
  }
 ],
 "metadata": {
  "kernelspec": {
   "display_name": "project",
   "language": "python",
   "name": "python3"
  },
  "language_info": {
   "codemirror_mode": {
    "name": "ipython",
    "version": 3
   },
   "file_extension": ".py",
   "mimetype": "text/x-python",
   "name": "python",
   "nbconvert_exporter": "python",
   "pygments_lexer": "ipython3",
   "version": "3.12.9"
  }
 },
 "nbformat": 4,
 "nbformat_minor": 5
}

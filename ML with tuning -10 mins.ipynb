{
 "cells": [
  {
   "cell_type": "code",
   "execution_count": 1,
   "id": "2e5492f5",
   "metadata": {},
   "outputs": [],
   "source": [
    "# importing the necessary libraries\n",
    "import pandas as pd\n",
    "import numpy as np\n",
    "import matplotlib.pyplot as plt\n",
    "import seaborn as sns\n",
    "import statsmodels"
   ]
  },
  {
   "cell_type": "code",
   "execution_count": 2,
   "id": "660adaa2",
   "metadata": {},
   "outputs": [
    {
     "name": "stdout",
     "output_type": "stream",
     "text": [
      "   current_value  lights         T1       RH_1         T2       RH_2  \\\n",
      "0          430.0      30  20.133333  48.000000  19.566667  44.400000   \n",
      "1          250.0      30  20.260000  52.726667  19.730000  45.100000   \n",
      "2          100.0      10  20.426667  55.893333  19.856667  45.833333   \n",
      "3          100.0      10  20.566667  53.893333  20.033333  46.756667   \n",
      "4           90.0      10  20.730000  52.660000  20.166667  47.223333   \n",
      "\n",
      "          T3       RH_3         T4       RH_4  ...  is_weekend    nsm  lag_1  \\\n",
      "0  19.890000  44.900000  19.000000  46.363333  ...           0  68400  576.6   \n",
      "1  19.890000  45.493333  19.000000  47.223333  ...           0  69000  430.0   \n",
      "2  20.033333  47.526667  19.000000  48.696667  ...           0  69600  250.0   \n",
      "3  20.100000  48.466667  19.000000  48.490000  ...           0  70200  100.0   \n",
      "4  20.200000  48.530000  18.926667  48.156667  ...           0  70800  100.0   \n",
      "\n",
      "   lag_2  lag_6  lag_12  hour_sin  hour_cos  rolling_mean_12  rolling_std_12  \n",
      "0  230.0   60.0    60.0 -0.965926  0.258819       115.550000      153.488504  \n",
      "1  576.6   60.0    60.0 -0.965926  0.258819       146.383333      176.720271  \n",
      "2  430.0   60.0    50.0 -0.965926  0.258819       162.216667      176.788676  \n",
      "3  250.0   70.0    50.0 -0.965926  0.258819       166.383333      174.477557  \n",
      "4  100.0  230.0    60.0 -0.965926  0.258819       170.550000      172.025350  \n",
      "\n",
      "[5 rows x 38 columns]\n"
     ]
    }
   ],
   "source": [
    "# load the data into dataframe\n",
    "df=pd.read_csv('feature_engineered_data.csv')\n",
    "print(df.head())"
   ]
  },
  {
   "cell_type": "code",
   "execution_count": 3,
   "id": "2760f4f5",
   "metadata": {},
   "outputs": [
    {
     "name": "stdout",
     "output_type": "stream",
     "text": [
      "Selected Features: ['current_value', 'RH_5', 'T6', 'T8', 'RH_8', 'Press_mm_hg', 'nsm', 'lag_1', 'rolling_mean_12', 'rolling_std_12']\n"
     ]
    }
   ],
   "source": [
    "import pickle\n",
    "\n",
    "# Load the selected features for 10-minute forecasting\n",
    "with open(\"selected_features_10min.pkl\", \"rb\") as f:\n",
    "    selected_features = pickle.load(f)\n",
    "\n",
    "print(\"Selected Features:\", selected_features)"
   ]
  },
  {
   "cell_type": "code",
   "execution_count": 4,
   "id": "430710c1",
   "metadata": {},
   "outputs": [],
   "source": [
    "df['target_10min']= df['current_value'].shift(-1)"
   ]
  },
  {
   "cell_type": "code",
   "execution_count": 5,
   "id": "2937f2d5",
   "metadata": {},
   "outputs": [],
   "source": [
    "df = df.dropna().reset_index(drop=True)"
   ]
  },
  {
   "cell_type": "code",
   "execution_count": 6,
   "id": "b098778f",
   "metadata": {},
   "outputs": [],
   "source": [
    "\n",
    "df = df[selected_features + ['target_10min']]"
   ]
  },
  {
   "cell_type": "code",
   "execution_count": 7,
   "id": "8349ccfc",
   "metadata": {},
   "outputs": [
    {
     "data": {
      "text/html": [
       "<div>\n",
       "<style scoped>\n",
       "    .dataframe tbody tr th:only-of-type {\n",
       "        vertical-align: middle;\n",
       "    }\n",
       "\n",
       "    .dataframe tbody tr th {\n",
       "        vertical-align: top;\n",
       "    }\n",
       "\n",
       "    .dataframe thead th {\n",
       "        text-align: right;\n",
       "    }\n",
       "</style>\n",
       "<table border=\"1\" class=\"dataframe\">\n",
       "  <thead>\n",
       "    <tr style=\"text-align: right;\">\n",
       "      <th></th>\n",
       "      <th>current_value</th>\n",
       "      <th>RH_5</th>\n",
       "      <th>T6</th>\n",
       "      <th>T8</th>\n",
       "      <th>RH_8</th>\n",
       "      <th>Press_mm_hg</th>\n",
       "      <th>nsm</th>\n",
       "      <th>lag_1</th>\n",
       "      <th>rolling_mean_12</th>\n",
       "      <th>rolling_std_12</th>\n",
       "      <th>target_10min</th>\n",
       "    </tr>\n",
       "  </thead>\n",
       "  <tbody>\n",
       "    <tr>\n",
       "      <th>0</th>\n",
       "      <td>430.0</td>\n",
       "      <td>55.090000</td>\n",
       "      <td>6.123333</td>\n",
       "      <td>18.066667</td>\n",
       "      <td>48.560000</td>\n",
       "      <td>734.500000</td>\n",
       "      <td>68400</td>\n",
       "      <td>576.6</td>\n",
       "      <td>115.550000</td>\n",
       "      <td>153.488504</td>\n",
       "      <td>250.0</td>\n",
       "    </tr>\n",
       "    <tr>\n",
       "      <th>1</th>\n",
       "      <td>250.0</td>\n",
       "      <td>55.163333</td>\n",
       "      <td>6.067500</td>\n",
       "      <td>18.033333</td>\n",
       "      <td>48.666667</td>\n",
       "      <td>734.616667</td>\n",
       "      <td>69000</td>\n",
       "      <td>430.0</td>\n",
       "      <td>146.383333</td>\n",
       "      <td>176.720271</td>\n",
       "      <td>100.0</td>\n",
       "    </tr>\n",
       "    <tr>\n",
       "      <th>2</th>\n",
       "      <td>100.0</td>\n",
       "      <td>55.500000</td>\n",
       "      <td>5.900000</td>\n",
       "      <td>18.100000</td>\n",
       "      <td>49.193333</td>\n",
       "      <td>734.733333</td>\n",
       "      <td>69600</td>\n",
       "      <td>250.0</td>\n",
       "      <td>162.216667</td>\n",
       "      <td>176.788676</td>\n",
       "      <td>100.0</td>\n",
       "    </tr>\n",
       "    <tr>\n",
       "      <th>3</th>\n",
       "      <td>100.0</td>\n",
       "      <td>56.042500</td>\n",
       "      <td>5.800000</td>\n",
       "      <td>18.150000</td>\n",
       "      <td>49.200000</td>\n",
       "      <td>734.850000</td>\n",
       "      <td>70200</td>\n",
       "      <td>100.0</td>\n",
       "      <td>166.383333</td>\n",
       "      <td>174.477557</td>\n",
       "      <td>90.0</td>\n",
       "    </tr>\n",
       "    <tr>\n",
       "      <th>4</th>\n",
       "      <td>90.0</td>\n",
       "      <td>56.490000</td>\n",
       "      <td>5.726667</td>\n",
       "      <td>18.230000</td>\n",
       "      <td>49.633333</td>\n",
       "      <td>734.966667</td>\n",
       "      <td>70800</td>\n",
       "      <td>100.0</td>\n",
       "      <td>170.550000</td>\n",
       "      <td>172.025350</td>\n",
       "      <td>70.0</td>\n",
       "    </tr>\n",
       "  </tbody>\n",
       "</table>\n",
       "</div>"
      ],
      "text/plain": [
       "   current_value       RH_5        T6         T8       RH_8  Press_mm_hg  \\\n",
       "0          430.0  55.090000  6.123333  18.066667  48.560000   734.500000   \n",
       "1          250.0  55.163333  6.067500  18.033333  48.666667   734.616667   \n",
       "2          100.0  55.500000  5.900000  18.100000  49.193333   734.733333   \n",
       "3          100.0  56.042500  5.800000  18.150000  49.200000   734.850000   \n",
       "4           90.0  56.490000  5.726667  18.230000  49.633333   734.966667   \n",
       "\n",
       "     nsm  lag_1  rolling_mean_12  rolling_std_12  target_10min  \n",
       "0  68400  576.6       115.550000      153.488504         250.0  \n",
       "1  69000  430.0       146.383333      176.720271         100.0  \n",
       "2  69600  250.0       162.216667      176.788676         100.0  \n",
       "3  70200  100.0       166.383333      174.477557          90.0  \n",
       "4  70800  100.0       170.550000      172.025350          70.0  "
      ]
     },
     "execution_count": 7,
     "metadata": {},
     "output_type": "execute_result"
    }
   ],
   "source": [
    "df.head()"
   ]
  },
  {
   "cell_type": "code",
   "execution_count": 8,
   "id": "bfc6693f",
   "metadata": {},
   "outputs": [],
   "source": [
    "X=df.drop(columns=['target_10min'])\n",
    "y=df['target_10min']"
   ]
  },
  {
   "cell_type": "code",
   "execution_count": 9,
   "id": "df11e93e",
   "metadata": {},
   "outputs": [],
   "source": [
    "from sklearn.preprocessing import MinMaxScaler\n",
    "from sklearn.model_selection import train_test_split"
   ]
  },
  {
   "cell_type": "code",
   "execution_count": 10,
   "id": "96d52324",
   "metadata": {},
   "outputs": [],
   "source": [
    "train_size = int(len(df) * 0.8)\n",
    "X_train, X_test = X.iloc[:train_size], X.iloc[train_size:]\n",
    "y_train, y_test = y.iloc[:train_size], y.iloc[train_size:]"
   ]
  },
  {
   "cell_type": "code",
   "execution_count": 11,
   "id": "61e131c3",
   "metadata": {},
   "outputs": [],
   "source": [
    "scaler_X = MinMaxScaler()\n",
    "X_train_scaled = scaler_X.fit_transform(X_train)\n",
    "X_test_scaled = scaler_X.transform(X_test)"
   ]
  },
  {
   "cell_type": "code",
   "execution_count": 12,
   "id": "3d1fa85b",
   "metadata": {},
   "outputs": [],
   "source": [
    "from sklearn.metrics import mean_absolute_error, mean_squared_error, r2_score"
   ]
  },
  {
   "cell_type": "code",
   "execution_count": 13,
   "id": "d8f9d640",
   "metadata": {},
   "outputs": [],
   "source": [
    "def run_model(model_name, model ,X_train_scaled,y_train,X_test_scaled):\n",
    "    model.fit(X_train_scaled,y_train)\n",
    "\n",
    "    y_pred=model.predict(X_test_scaled)\n",
    "\n",
    "    r2 = r2_score(y_test, y_pred)\n",
    "    mae  = mean_absolute_error(y_test, y_pred)\n",
    "    rmse  = np.sqrt(mean_squared_error(y_test, y_pred))\n",
    "\n",
    "    # Print evaluation metrics\n",
    "    print(\"Model Name:\",model_name)\n",
    "    print(\"R² Score:\", r2)\n",
    "    print(\"MAE:\", mae)\n",
    "    print(\"RMSE:\", rmse)\n",
    "\n",
    "    return\n"
   ]
  },
  {
   "cell_type": "code",
   "execution_count": 14,
   "id": "33f94301",
   "metadata": {},
   "outputs": [],
   "source": [
    "import xgboost\n",
    "from xgboost import XGBRegressor"
   ]
  },
  {
   "cell_type": "code",
   "execution_count": 15,
   "id": "d7189464",
   "metadata": {},
   "outputs": [
    {
     "name": "stdout",
     "output_type": "stream",
     "text": [
      "Model Name: XgBoost\n",
      "R² Score: 0.5763691249658942\n",
      "MAE: 27.05437581747656\n",
      "RMSE: 56.57802841443363\n"
     ]
    }
   ],
   "source": [
    "xg = XGBRegressor(n_estimators=100, learning_rate=0.1, max_depth=5, random_state=42)\n",
    "run_model('XgBoost',xg ,X_train_scaled,y_train,X_test_scaled)"
   ]
  },
  {
   "cell_type": "code",
   "execution_count": 16,
   "id": "6a2c96f4",
   "metadata": {},
   "outputs": [
    {
     "name": "stdout",
     "output_type": "stream",
     "text": [
      "Model Name: Random Forest\n",
      "R² Score: 0.5290284470439616\n",
      "MAE: 30.742385497795762\n",
      "RMSE: 59.65561745268619\n"
     ]
    }
   ],
   "source": [
    "from sklearn.ensemble import RandomForestRegressor\n",
    "rf = RandomForestRegressor(n_estimators=100, max_depth=10, random_state=42)\n",
    "\n",
    "run_model('Random Forest',rf ,X_train_scaled,y_train,X_test_scaled)"
   ]
  },
  {
   "cell_type": "code",
   "execution_count": 17,
   "id": "fd6414d8",
   "metadata": {},
   "outputs": [
    {
     "name": "stdout",
     "output_type": "stream",
     "text": [
      "Model Name: Linear Regression\n",
      "R² Score: 0.5679236799512523\n",
      "MAE: 26.72774515191798\n",
      "RMSE: 57.139211075673316\n"
     ]
    }
   ],
   "source": [
    "from sklearn.linear_model import LinearRegression\n",
    "\n",
    "# Train the model\n",
    "lr = LinearRegression()\n",
    "\n",
    "run_model('Linear Regression',lr ,X_train_scaled,y_train,X_test_scaled)"
   ]
  },
  {
   "cell_type": "markdown",
   "id": "f79ce947",
   "metadata": {},
   "source": [
    "# Hyperparameter Tuning"
   ]
  },
  {
   "cell_type": "code",
   "execution_count": 18,
   "id": "8c9a1607",
   "metadata": {},
   "outputs": [],
   "source": [
    "from sklearn.model_selection import GridSearchCV, cross_val_score, train_test_split, TimeSeriesSplit"
   ]
  },
  {
   "cell_type": "code",
   "execution_count": 19,
   "id": "fd71e631",
   "metadata": {},
   "outputs": [],
   "source": [
    "def evaluate(model,y_pred,y_test):\n",
    "    r2 = r2_score(y_test, y_pred)\n",
    "    mae  = mean_absolute_error(y_test, y_pred)\n",
    "    rmse  = np.sqrt(mean_squared_error(y_test, y_pred))\n",
    "\n",
    "    # Print evaluation metrics\n",
    "    print(\"Model Name:\",model)\n",
    "    print(\"R² Score:\", r2)\n",
    "    print(\"MAE:\", mae)\n",
    "    print(\"RMSE:\", rmse)"
   ]
  },
  {
   "cell_type": "code",
   "execution_count": null,
   "id": "41df61ba",
   "metadata": {},
   "outputs": [
    {
     "name": "stdout",
     "output_type": "stream",
     "text": [
      "Linear Regression Cross-Validated R²: 0.5854448644110908\n",
      "Linear Regression Test R²: 0.5679236799512523\n"
     ]
    }
   ],
   "source": [
    "tscv = TimeSeriesSplit(n_splits=5)\n",
    "\n",
    "cv_scores = cross_val_score(lr, X_train_scaled, y_train, cv=tscv, scoring='r2')\n",
    "print(\"Linear Regression Cross-Validated R²:\", np.mean(cv_scores))\n",
    "\n",
    "lr.fit(X_train_scaled, y_train)\n",
    "y_pred_lr = lr.predict(X_test_scaled)\n",
    "evaluate(\"Linear Regression\",y_pred_lr,y_test)\n"
   ]
  },
  {
   "cell_type": "code",
   "execution_count": 21,
   "id": "f49825d9",
   "metadata": {},
   "outputs": [
    {
     "name": "stdout",
     "output_type": "stream",
     "text": [
      "Best RF Parameters: {'max_depth': 10, 'min_samples_leaf': 2, 'min_samples_split': 5, 'n_estimators': 200}\n",
      "Best RF CV R²: 0.585103739055069\n",
      "Model Name: Random Forest\n",
      "R² Score: 0.5689907067543907\n",
      "MAE: 28.43080819416108\n",
      "RMSE: 57.068613874748166\n"
     ]
    }
   ],
   "source": [
    "rf = RandomForestRegressor(random_state=42)\n",
    "\n",
    "rf_params = {\n",
    "    'n_estimators': [100, 200],\n",
    "    'max_depth': [None, 10, 20],\n",
    "    'min_samples_split': [2, 5],\n",
    "    'min_samples_leaf': [1, 2]\n",
    "}\n",
    "\n",
    "grid_rf = GridSearchCV(rf, rf_params, cv=tscv, scoring='r2', n_jobs=-1)\n",
    "grid_rf.fit(X_train_scaled, y_train)\n",
    "\n",
    "print(\"Best RF Parameters:\", grid_rf.best_params_)\n",
    "print(\"Best RF CV R²:\", grid_rf.best_score_)\n",
    "\n",
    "y_pred_rf = grid_rf.predict(X_test_scaled)\n",
    "#print(\"Random Forest Test R²:\", r2_score(y_test, y_pred_rf))\n",
    "evaluate(\"Random Forest\",y_pred_rf,y_test)\n"
   ]
  },
  {
   "cell_type": "code",
   "execution_count": 22,
   "id": "5167e54f",
   "metadata": {},
   "outputs": [
    {
     "name": "stdout",
     "output_type": "stream",
     "text": [
      "Best XGB Parameters: {'colsample_bytree': 1, 'learning_rate': 0.1, 'max_depth': 3, 'n_estimators': 100, 'subsample': 1}\n",
      "Best XGB CV R²: 0.6117955431105627\n",
      "Model Name: XgBoost\n",
      "R² Score: 0.5899071761082513\n",
      "MAE: 25.75774524819261\n",
      "RMSE: 55.666650706342665\n"
     ]
    }
   ],
   "source": [
    "xgb = XGBRegressor(objective='reg:squarederror', random_state=42)\n",
    "\n",
    "xgb_params = {\n",
    "    'n_estimators': [100, 200],\n",
    "    'max_depth': [3, 5, 7],\n",
    "    'learning_rate': [0.01, 0.1],\n",
    "    'subsample': [0.8, 1],\n",
    "    'colsample_bytree': [0.8, 1]\n",
    "}\n",
    "\n",
    "grid_xgb = GridSearchCV(xgb, xgb_params, cv=tscv, scoring='r2', n_jobs=-1)\n",
    "grid_xgb.fit(X_train_scaled, y_train)\n",
    "\n",
    "print(\"Best XGB Parameters:\", grid_xgb.best_params_)\n",
    "print(\"Best XGB CV R²:\", grid_xgb.best_score_)\n",
    "\n",
    "y_pred_xgb = grid_xgb.predict(X_test_scaled)\n",
    "#print(\"XGBoost Test R²:\", r2_score(y_test, y_pred_xgb))\n",
    "\n",
    "evaluate(\"XgBoost\",y_pred_xgb,y_test)\n"
   ]
  }
 ],
 "metadata": {
  "kernelspec": {
   "display_name": "project",
   "language": "python",
   "name": "python3"
  },
  "language_info": {
   "codemirror_mode": {
    "name": "ipython",
    "version": 3
   },
   "file_extension": ".py",
   "mimetype": "text/x-python",
   "name": "python",
   "nbconvert_exporter": "python",
   "pygments_lexer": "ipython3",
   "version": "3.12.9"
  }
 },
 "nbformat": 4,
 "nbformat_minor": 5
}
